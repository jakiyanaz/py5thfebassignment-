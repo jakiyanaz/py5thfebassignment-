{
 "cells": [
  {
   "cell_type": "markdown",
   "id": "d4bceb05-c695-458c-bf68-0de50cd83ecc",
   "metadata": {},
   "source": [
    "1. Explain Class and Object with respect to Object-Oriented Programming. Give a suitable example."
   ]
  },
  {
   "cell_type": "markdown",
   "id": "8194dd0a-423e-44a2-9fce-1ec7407b38ce",
   "metadata": {},
   "source": [
    "Ans: \n",
    "class: A class is a blueprint for working on real world entities in object oriented programming.\n",
    "example: \n",
    "\n",
    "class test:\n",
    "    x = \"Hii\"\n",
    "\n",
    "a = test()\n",
    "print(a.x)    \n",
    "\n",
    "object: An object is an instance or variable of a class in object oriented programming.\n",
    "example:\n",
    "\n",
    "b = test() #here b is object of class test."
   ]
  },
  {
   "cell_type": "code",
   "execution_count": 6,
   "id": "665a13ab-5d97-446e-b0c3-707aa6528fe9",
   "metadata": {},
   "outputs": [
    {
     "name": "stdout",
     "output_type": "stream",
     "text": [
      "Hii\n"
     ]
    }
   ],
   "source": [
    "class test:\n",
    "    x = \"Hii\"\n",
    "\n",
    "a = test()\n",
    "print(a.x)"
   ]
  },
  {
   "cell_type": "markdown",
   "id": "cd9a7f8e-fd0e-4861-ac1b-cfbd5c111425",
   "metadata": {},
   "source": [
    "2. Name the four pillars of OOPs."
   ]
  },
  {
   "cell_type": "markdown",
   "id": "5fcff6a0-416e-4563-8d62-2e54d180673b",
   "metadata": {},
   "source": [
    "Ans:\n",
    "\n",
    "    1. Inheritence\n",
    "    \n",
    "    2. Abstraction\n",
    "    \n",
    "    3. Polymorphism\n",
    "    \n",
    "    4. Encapsulation"
   ]
  },
  {
   "cell_type": "markdown",
   "id": "0b86a19b-cab6-4012-8903-81fd39ce2b43",
   "metadata": {},
   "source": [
    "3. Explain why the __init__() function is used. Give a suitable example."
   ]
  },
  {
   "cell_type": "markdown",
   "id": "bc91938e-a9bc-4811-94ba-4bb7abfd4c55",
   "metadata": {},
   "source": [
    "Ans: init () function is used to take input while declaring objects of a class.\n",
    "\n",
    "Example:"
   ]
  },
  {
   "cell_type": "code",
   "execution_count": 13,
   "id": "47704807-5fbd-482d-bbf3-8bd1ad2f00d4",
   "metadata": {},
   "outputs": [],
   "source": [
    "class test:\n",
    "    def __init__(self,name,email):\n",
    "        self.n = name\n",
    "        self.e = email\n",
    "    \n",
    "    def func1(self):\n",
    "        print(\"name: \" + self.n, \"email: \" + self.e)"
   ]
  },
  {
   "cell_type": "code",
   "execution_count": 14,
   "id": "b718f965-8711-48af-835a-0c0bfa450f24",
   "metadata": {},
   "outputs": [
    {
     "name": "stdout",
     "output_type": "stream",
     "text": [
      "name: Rohan email: rohan@gmail.com\n"
     ]
    }
   ],
   "source": [
    "obj1 = test(\"Rohan\", \"rohan@gmail.com\")\n",
    "obj1.func1()"
   ]
  },
  {
   "cell_type": "markdown",
   "id": "6ec03fb8-4712-47af-b16a-809458ac5f4d",
   "metadata": {},
   "source": [
    "4. Why self is used in OOPs?"
   ]
  },
  {
   "cell_type": "markdown",
   "id": "bde4b0a2-4544-47f1-b7c3-ec21503539fe",
   "metadata": {},
   "source": [
    "Ans: It works as a reference to the object. Python uses the self parameter to refer to instance attributes and methods of the class."
   ]
  },
  {
   "cell_type": "markdown",
   "id": "d28a08df-c8bc-474b-8e26-d8d01750be6a",
   "metadata": {},
   "source": [
    "5. What is inheritance? Give an example for each type of inheritance."
   ]
  },
  {
   "cell_type": "markdown",
   "id": "80476aef-a7df-41aa-9343-41c6a7a51e01",
   "metadata": {},
   "source": [
    "Ans: Inheritance allows us to define a class that inherits all the methods and properties from another class.\n",
    "\n",
    "Example:"
   ]
  },
  {
   "cell_type": "code",
   "execution_count": 40,
   "id": "b7aae9f7-f77b-491e-ac45-0159da7b8159",
   "metadata": {},
   "outputs": [],
   "source": [
    "#Single inheritance:\n",
    "class pyinherit1:\n",
    "    def __init__(self, name, roll):\n",
    "        self.name = name\n",
    "        self.roll = roll\n",
    "        \n",
    "    def func1(self):\n",
    "        print(\"name: \"+self.name, \"roll: \"+str(self.roll))"
   ]
  },
  {
   "cell_type": "code",
   "execution_count": 20,
   "id": "b360125e-b9c9-4cc7-9683-efa6963c6d5f",
   "metadata": {},
   "outputs": [
    {
     "name": "stdout",
     "output_type": "stream",
     "text": [
      "name: Akash roll: 1\n"
     ]
    }
   ],
   "source": [
    "obj1 = pyinherit1(\"Akash\", 1)\n",
    "obj1.func1()"
   ]
  },
  {
   "cell_type": "code",
   "execution_count": 36,
   "id": "251a45e8-d38a-4ee1-938b-d83711e5f2a0",
   "metadata": {},
   "outputs": [],
   "source": [
    "class pyinherit2(pyinherit1):\n",
    "    def func2(self):\n",
    "        print(\"This is child class\")"
   ]
  },
  {
   "cell_type": "code",
   "execution_count": 34,
   "id": "0512057d-5467-4708-a8c0-d5ac45880ccb",
   "metadata": {},
   "outputs": [
    {
     "name": "stdout",
     "output_type": "stream",
     "text": [
      "name: hello roll: 2\n"
     ]
    }
   ],
   "source": [
    "obj2 = pyinherit2(\"hello\", 2)\n",
    "obj2.func1()"
   ]
  },
  {
   "cell_type": "code",
   "execution_count": 41,
   "id": "e82acca7-dc6a-40a9-aa09-58ece656d451",
   "metadata": {},
   "outputs": [
    {
     "name": "stdout",
     "output_type": "stream",
     "text": [
      "This is test1\n",
      "This is test2\n",
      "This is test3\n",
      "This is test4\n"
     ]
    }
   ],
   "source": [
    "#Multiple inheritance:\n",
    "class test1:\n",
    "    def func1(self):\n",
    "        print(\"This is test1\")\n",
    "        \n",
    "class test2:\n",
    "    def func2(self):\n",
    "        print(\"This is test2\")\n",
    "\n",
    "class test3:\n",
    "    def func3(self):\n",
    "        print(\"This is test3\")\n",
    "        \n",
    "class test4(test1, test2, test3):\n",
    "    def func4(self):\n",
    "        print(\"This is test4\")\n",
    "        \n",
    "obj_4 = test4()\n",
    "obj_4.func1()\n",
    "obj_4.func2()\n",
    "obj_4.func3()\n",
    "obj_4.func4()"
   ]
  },
  {
   "cell_type": "code",
   "execution_count": 42,
   "id": "2ca1e990-45f4-44c7-b2ce-0273bb0a08f3",
   "metadata": {},
   "outputs": [
    {
     "name": "stdout",
     "output_type": "stream",
     "text": [
      "This is test1\n",
      "This is test2\n",
      "This is test3\n",
      "This is test4\n"
     ]
    }
   ],
   "source": [
    "#Multi level inheritance:\n",
    "class test1:\n",
    "    def func1(self):\n",
    "        print(\"This is test1\")\n",
    "        \n",
    "class test2(test1):\n",
    "    def func2(self):\n",
    "        print(\"This is test2\")\n",
    "\n",
    "class test3(test2):\n",
    "    def func3(self):\n",
    "        print(\"This is test3\")\n",
    "        \n",
    "class test4(test3):\n",
    "    def func4(self):\n",
    "        print(\"This is test4\")\n",
    "        \n",
    "obj = test4()\n",
    "obj.func1()\n",
    "obj.func2()\n",
    "obj.func3()\n",
    "obj.func4()"
   ]
  },
  {
   "cell_type": "code",
   "execution_count": 44,
   "id": "5fd64e1a-a81c-4ecd-9461-0d48876fbaf6",
   "metadata": {},
   "outputs": [
    {
     "name": "stdout",
     "output_type": "stream",
     "text": [
      "This is test1\n",
      "This is test1\n",
      "This is test2\n",
      "This is test1\n",
      "This is test3\n",
      "This is test1\n",
      "This is test4\n"
     ]
    }
   ],
   "source": [
    "#Hirerchical inheritance:\n",
    "class test1:\n",
    "    def func1(self):\n",
    "        print(\"This is test1\")\n",
    "        \n",
    "class test2(test1):\n",
    "    def func2(self):\n",
    "        print(\"This is test2\")\n",
    "\n",
    "class test3(test1):\n",
    "    def func3(self):\n",
    "        print(\"This is test3\")\n",
    "        \n",
    "class test4(test1):\n",
    "    def func4(self):\n",
    "        print(\"This is test4\")\n",
    "        \n",
    "obj1 = test1()\n",
    "obj2 = test2()\n",
    "obj3 = test3()\n",
    "obj4 = test4()\n",
    "obj1.func1()\n",
    "obj2.func1()\n",
    "obj2.func2()\n",
    "obj3.func1()\n",
    "obj3.func3()\n",
    "obj4.func1()\n",
    "obj4.func4()"
   ]
  },
  {
   "cell_type": "code",
   "execution_count": 47,
   "id": "a3128a30-f109-4706-94e7-ca4b278bbeec",
   "metadata": {},
   "outputs": [
    {
     "name": "stdout",
     "output_type": "stream",
     "text": [
      "This is test1\n",
      "This is test4\n",
      "This is breaking classes\n",
      "This is test1\n",
      "This is test2\n",
      "This is test3\n"
     ]
    }
   ],
   "source": [
    "#Hybrid inheritance:\n",
    "class test1:\n",
    "    def func1(self):\n",
    "        print(\"This is test1\")\n",
    "        \n",
    "class test2(test1):\n",
    "    def func2(self):\n",
    "        print(\"This is test2\")\n",
    "\n",
    "class test3(test2):\n",
    "    def func3(self):\n",
    "        print(\"This is test3\")\n",
    "\n",
    "class breakt():\n",
    "    def funcb(self):\n",
    "        print(\"This is breaking classes\")\n",
    "        \n",
    "class test4(test1, breakt):\n",
    "    def func4(self):\n",
    "        print(\"This is test4\")\n",
    "        \n",
    "obj_4 = test4()\n",
    "obj_4.func1()\n",
    "obj_4.func4()\n",
    "obj_4.funcb()\n",
    "obj_1 = test3()\n",
    "obj_1.func1()\n",
    "obj_1.func2()\n",
    "obj_1.func3()"
   ]
  },
  {
   "cell_type": "code",
   "execution_count": null,
   "id": "06726e64-5e29-495f-8ec2-f005d91c77ea",
   "metadata": {},
   "outputs": [],
   "source": []
  }
 ],
 "metadata": {
  "kernelspec": {
   "display_name": "Python 3 (ipykernel)",
   "language": "python",
   "name": "python3"
  },
  "language_info": {
   "codemirror_mode": {
    "name": "ipython",
    "version": 3
   },
   "file_extension": ".py",
   "mimetype": "text/x-python",
   "name": "python",
   "nbconvert_exporter": "python",
   "pygments_lexer": "ipython3",
   "version": "3.10.8"
  }
 },
 "nbformat": 4,
 "nbformat_minor": 5
}
